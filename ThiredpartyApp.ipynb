{
 "cells": [
  {
   "cell_type": "code",
   "execution_count": 1,
   "metadata": {},
   "outputs": [],
   "source": [
    "import requests\n",
    "import os\n",
    "import json"
   ]
  },
  {
   "cell_type": "code",
   "execution_count": 2,
   "metadata": {},
   "outputs": [
    {
     "name": "stdout",
     "output_type": "stream",
     "text": [
      "Source ID: src_wBKfKzsnKtRJBt0vINSQg\n"
     ]
    }
   ],
   "source": [
    "file_path = os.path.join('Synopsis.pdf')\n",
    "\n",
    "files = [\n",
    "    ('file', ('file', open(file_path, 'rb'), 'application/octet-stream'))\n",
    "]\n",
    "headers = {\n",
    "    'x-api-key': 'sec_UF4cBRlukLSqvWOqbxIvLZs9pFPaKeGT'\n",
    "}\n",
    "\n",
    "response = requests.post(\n",
    "    'https://api.chatpdf.com/v1/sources/add-file', headers=headers, files=files)\n",
    "\n",
    "if response.status_code == 200:\n",
    "    print('Source ID:', response.json()['sourceId'])\n",
    "else:\n",
    "    print('Status:', response.status_code)\n",
    "    print('Error:', response.text)"
   ]
  },
  {
   "cell_type": "code",
   "execution_count": 3,
   "metadata": {},
   "outputs": [
    {
     "name": "stdout",
     "output_type": "stream",
     "text": [
      "Result: The Constitution of the United States was written by a group of men known as the Founding Fathers during the Constitutional Convention in 1787.\n"
     ]
    }
   ],
   "source": [
    "headers = {\n",
    "    'x-api-key': 'sec_UF4cBRlukLSqvWOqbxIvLZs9pFPaKeGT',\n",
    "    \"Content-Type\": \"application/json\",\n",
    "}\n",
    "\n",
    "data = {\n",
    "    'sourceId':  response.json()['sourceId'],\n",
    "    'messages': [\n",
    "        {\n",
    "            'role': \"user\",\n",
    "            'content': \"Who wrote the constitution?\",\n",
    "        }\n",
    "    ]\n",
    "}\n",
    "\n",
    "response = requests.post(\n",
    "    'https://api.chatpdf.com/v1/chats/message', headers=headers, json=data)\n",
    "\n",
    "if response.status_code == 200:\n",
    "    print('Result:', response.json()['content'])\n",
    "else:\n",
    "    print('Status:', response.status_code)\n",
    "    print('Error:', response.text)"
   ]
  },
  {
   "cell_type": "code",
   "execution_count": 11,
   "metadata": {},
   "outputs": [
    {
     "name": "stdout",
     "output_type": "stream",
     "text": [
      "File uploaded and message posted successfully.\n"
     ]
    }
   ],
   "source": [
    "# Define the URL of your API endpoint\n",
    "urldoc = 'http://localhost:8000/api/documents/upload/'\n",
    "\n",
    "# Define the file path of the PDF document you want to upload\n",
    "file_path = os.path.join('Synopsis.pdf')\n",
    "\n",
    "# Define the message to be posted along with the file upload\n",
    "\n",
    "\n",
    "\n",
    "\n",
    "# Create a dictionary containing the message and file data\n",
    "data = {\n",
    "    \n",
    "    'file': open(file_path, 'rb'),\n",
    "    \"user\":json.dumps({\"user_Id\":\"123\"})\n",
    "    \n",
    "}\n",
    "    \n",
    "    \n",
    "\n",
    "# Make a multipart/form-data POST request to upload the file and post the message\n",
    "response = requests.post(urldoc, files=data)\n",
    "\n",
    "# Check if the request was successful\n",
    "if response.status_code == 201:\n",
    "    print('File uploaded and message posted successfully.')\n",
    "else:\n",
    "    print('Error:', response.text)"
   ]
  },
  {
   "cell_type": "code",
   "execution_count": 12,
   "metadata": {},
   "outputs": [
    {
     "name": "stdout",
     "output_type": "stream",
     "text": [
      "<Response [400]>\n",
      "Error: {\"msg\":\"Something wrong\"}\n"
     ]
    }
   ],
   "source": [
    "urlquery=\"http://127.0.0.1:8000/api/messages/\"\n",
    "\n",
    "\n",
    "message_data = {\n",
    "    'user': '123',\n",
    "    'text': \"Users often encounter unfamiliar terms while reading PDF documents. The system provides instant access to word meanings, enabling users to quickly grasp the context and enhance their comprehension.\"\n",
    "}\n",
    "# Make a multipart/form-data POST request to upload the file and post the message\n",
    "response = requests.post(urlquery, data=message_data)\n",
    "\n",
    "# Check if the request was successful\n",
    "print(response)\n",
    "if response.status_code == 201:\n",
    "    print('File uploaded and message posted successfully.')\n",
    "else:\n",
    "    print('Error:', response.text)"
   ]
  }
 ],
 "metadata": {
  "kernelspec": {
   "display_name": "Python 3",
   "language": "python",
   "name": "python3"
  },
  "language_info": {
   "codemirror_mode": {
    "name": "ipython",
    "version": 3
   },
   "file_extension": ".py",
   "mimetype": "text/x-python",
   "name": "python",
   "nbconvert_exporter": "python",
   "pygments_lexer": "ipython3",
   "version": "3.11.5"
  }
 },
 "nbformat": 4,
 "nbformat_minor": 2
}
